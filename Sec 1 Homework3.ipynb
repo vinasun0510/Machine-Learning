{
 "cells": [
  {
   "cell_type": "code",
   "execution_count": 1,
   "id": "1022e4d8",
   "metadata": {},
   "outputs": [],
   "source": [
    "import pandas as pd\n",
    "import sklearn as sk\n",
    "from sklearn.linear_model import LinearRegression\n",
    "from sklearn.model_selection import train_test_split\n",
    "from sklearn.preprocessing import StandardScaler\n",
    "from sklearn.linear_model import Lasso\n",
    "import matplotlib.pyplot as plt\n",
    "from pytrends.request import TrendReq\n",
    "import time"
   ]
  },
  {
   "cell_type": "markdown",
   "id": "a98f5070",
   "metadata": {},
   "source": [
    "# 1.) Clean the Apple Data to get a quarterly series of EPS."
   ]
  },
  {
   "cell_type": "code",
   "execution_count": 2,
   "id": "c7f8e883",
   "metadata": {},
   "outputs": [],
   "source": [
    "y = pd.read_csv('AAPL_quarterly_financials.csv')"
   ]
  },
  {
   "cell_type": "code",
   "execution_count": 3,
   "id": "cfd9ca49",
   "metadata": {},
   "outputs": [],
   "source": [
    "y.index = y.name"
   ]
  },
  {
   "cell_type": "code",
   "execution_count": 4,
   "id": "f693b15a",
   "metadata": {},
   "outputs": [],
   "source": [
    "y = pd.DataFrame(y.loc['BasicEPS', :]).iloc[2:]"
   ]
  },
  {
   "cell_type": "code",
   "execution_count": 5,
   "id": "c6b614ad",
   "metadata": {},
   "outputs": [],
   "source": [
    "y.index = pd.to_datetime(y.index)"
   ]
  },
  {
   "cell_type": "code",
   "execution_count": 6,
   "id": "26df49b2",
   "metadata": {},
   "outputs": [],
   "source": [
    "# check if NAs are no dividend period\n",
    "# only drop Nas not 0.0\n",
    "y = y.sort_index().fillna(0.)"
   ]
  },
  {
   "cell_type": "markdown",
   "id": "f41c46a9",
   "metadata": {},
   "source": [
    "# 2.) Come up with 6 search terms you think could nowcast earnings. (Different than the ones I used) Add in 3 terms that that you think will not Nowcast earnings. Pull in the gtrends data. Clean it to have a quarterly average."
   ]
  },
  {
   "cell_type": "code",
   "execution_count": 7,
   "id": "36446546",
   "metadata": {},
   "outputs": [],
   "source": [
    "# Create pytrends object\n",
    "pytrends = TrendReq(hl='en-US', tz=360)\n",
    "\n",
    "# Set up the keywords and the timeframe\n",
    "keywords = ['Amazon', \"Apple Watch\", 'Tesla', 'AirPods', 'MacBook Air', 'Inflation rate', 'zebra', 'classroom', 'gun']  \n",
    "# Add your keywords here\n",
    "start_date = '2004-01-01'\n",
    "end_date = '2024-01-01'\n",
    "\n",
    "# Create an empty DataFrame to store the results\n",
    "df = pd.DataFrame()\n",
    "\n",
    "# Iterate through keywords and fetch data\n",
    "for keyword in keywords:\n",
    "    time.sleep(5)\n",
    "    pytrends.build_payload([keyword], cat=0, timeframe=f'{start_date} {end_date}', geo='', gprop='')\n",
    "    interest_over_time_df = pytrends.interest_over_time()\n",
    "    df[keyword] = interest_over_time_df[keyword]"
   ]
  },
  {
   "cell_type": "code",
   "execution_count": 8,
   "id": "cea0a4e7",
   "metadata": {},
   "outputs": [],
   "source": [
    "df = df.resample(\"Q\").mean()"
   ]
  },
  {
   "cell_type": "markdown",
   "id": "73c7abb8",
   "metadata": {},
   "source": [
    "# 3.) Normalize all the X data"
   ]
  },
  {
   "cell_type": "code",
   "execution_count": 9,
   "id": "19ce18bd",
   "metadata": {},
   "outputs": [],
   "source": [
    "new_df = pd.concat([y,df], axis = 1).ffill().dropna()"
   ]
  },
  {
   "cell_type": "code",
   "execution_count": 10,
   "id": "45e260e7",
   "metadata": {},
   "outputs": [],
   "source": [
    "X = new_df.iloc[:, 1:]"
   ]
  },
  {
   "cell_type": "code",
   "execution_count": 11,
   "id": "397b45e8",
   "metadata": {},
   "outputs": [],
   "source": [
    "scaler = StandardScaler()"
   ]
  },
  {
   "cell_type": "code",
   "execution_count": 12,
   "id": "95a7bb4d",
   "metadata": {
    "scrolled": false
   },
   "outputs": [
    {
     "data": {
      "text/html": [
       "<div>\n",
       "<style scoped>\n",
       "    .dataframe tbody tr th:only-of-type {\n",
       "        vertical-align: middle;\n",
       "    }\n",
       "\n",
       "    .dataframe tbody tr th {\n",
       "        vertical-align: top;\n",
       "    }\n",
       "\n",
       "    .dataframe thead th {\n",
       "        text-align: right;\n",
       "    }\n",
       "</style>\n",
       "<table border=\"1\" class=\"dataframe\">\n",
       "  <thead>\n",
       "    <tr style=\"text-align: right;\">\n",
       "      <th></th>\n",
       "      <th>0</th>\n",
       "      <th>1</th>\n",
       "      <th>2</th>\n",
       "      <th>3</th>\n",
       "      <th>4</th>\n",
       "      <th>5</th>\n",
       "      <th>6</th>\n",
       "      <th>7</th>\n",
       "      <th>8</th>\n",
       "    </tr>\n",
       "  </thead>\n",
       "  <tbody>\n",
       "    <tr>\n",
       "      <th>0</th>\n",
       "      <td>-1.503960</td>\n",
       "      <td>-0.860742</td>\n",
       "      <td>-0.888914</td>\n",
       "      <td>-0.635473</td>\n",
       "      <td>-1.545320</td>\n",
       "      <td>1.542017</td>\n",
       "      <td>-0.534122</td>\n",
       "      <td>-0.646264</td>\n",
       "      <td>0.718838</td>\n",
       "    </tr>\n",
       "    <tr>\n",
       "      <th>1</th>\n",
       "      <td>-1.503960</td>\n",
       "      <td>-0.860742</td>\n",
       "      <td>-0.901611</td>\n",
       "      <td>-0.635473</td>\n",
       "      <td>-1.545320</td>\n",
       "      <td>1.083503</td>\n",
       "      <td>-0.994785</td>\n",
       "      <td>-0.693108</td>\n",
       "      <td>-0.020358</td>\n",
       "    </tr>\n",
       "    <tr>\n",
       "      <th>2</th>\n",
       "      <td>-1.488635</td>\n",
       "      <td>-0.860742</td>\n",
       "      <td>-0.927004</td>\n",
       "      <td>-0.635473</td>\n",
       "      <td>-1.545320</td>\n",
       "      <td>0.395732</td>\n",
       "      <td>-1.493836</td>\n",
       "      <td>-0.669686</td>\n",
       "      <td>-0.361525</td>\n",
       "    </tr>\n",
       "    <tr>\n",
       "      <th>3</th>\n",
       "      <td>-1.258755</td>\n",
       "      <td>-0.860742</td>\n",
       "      <td>-0.914307</td>\n",
       "      <td>-0.635473</td>\n",
       "      <td>-1.545320</td>\n",
       "      <td>0.979295</td>\n",
       "      <td>-1.301893</td>\n",
       "      <td>-0.622843</td>\n",
       "      <td>-0.020358</td>\n",
       "    </tr>\n",
       "    <tr>\n",
       "      <th>4</th>\n",
       "      <td>-1.396683</td>\n",
       "      <td>-0.860742</td>\n",
       "      <td>-0.927004</td>\n",
       "      <td>-0.635473</td>\n",
       "      <td>-1.545320</td>\n",
       "      <td>1.104345</td>\n",
       "      <td>-1.148339</td>\n",
       "      <td>-0.646264</td>\n",
       "      <td>-0.475247</td>\n",
       "    </tr>\n",
       "    <tr>\n",
       "      <th>...</th>\n",
       "      <td>...</td>\n",
       "      <td>...</td>\n",
       "      <td>...</td>\n",
       "      <td>...</td>\n",
       "      <td>...</td>\n",
       "      <td>...</td>\n",
       "      <td>...</td>\n",
       "      <td>...</td>\n",
       "      <td>...</td>\n",
       "    </tr>\n",
       "    <tr>\n",
       "      <th>76</th>\n",
       "      <td>0.963412</td>\n",
       "      <td>1.458690</td>\n",
       "      <td>1.904324</td>\n",
       "      <td>1.756759</td>\n",
       "      <td>0.947466</td>\n",
       "      <td>2.688302</td>\n",
       "      <td>-0.418957</td>\n",
       "      <td>0.548240</td>\n",
       "      <td>0.946283</td>\n",
       "    </tr>\n",
       "    <tr>\n",
       "      <th>77</th>\n",
       "      <td>0.794834</td>\n",
       "      <td>1.310155</td>\n",
       "      <td>1.459945</td>\n",
       "      <td>1.393893</td>\n",
       "      <td>0.770253</td>\n",
       "      <td>1.938006</td>\n",
       "      <td>-0.841231</td>\n",
       "      <td>0.243759</td>\n",
       "      <td>-0.304664</td>\n",
       "    </tr>\n",
       "    <tr>\n",
       "      <th>78</th>\n",
       "      <td>0.917436</td>\n",
       "      <td>1.572948</td>\n",
       "      <td>1.802752</td>\n",
       "      <td>1.514848</td>\n",
       "      <td>1.301890</td>\n",
       "      <td>1.771274</td>\n",
       "      <td>-0.994785</td>\n",
       "      <td>0.126650</td>\n",
       "      <td>-0.702692</td>\n",
       "    </tr>\n",
       "    <tr>\n",
       "      <th>79</th>\n",
       "      <td>1.331219</td>\n",
       "      <td>1.858593</td>\n",
       "      <td>1.523428</td>\n",
       "      <td>1.891154</td>\n",
       "      <td>1.148306</td>\n",
       "      <td>1.917165</td>\n",
       "      <td>-1.301893</td>\n",
       "      <td>0.431132</td>\n",
       "      <td>0.093365</td>\n",
       "    </tr>\n",
       "    <tr>\n",
       "      <th>80</th>\n",
       "      <td>0.994063</td>\n",
       "      <td>1.572948</td>\n",
       "      <td>1.625000</td>\n",
       "      <td>1.622364</td>\n",
       "      <td>1.006536</td>\n",
       "      <td>1.729591</td>\n",
       "      <td>-1.263505</td>\n",
       "      <td>0.126650</td>\n",
       "      <td>0.377671</td>\n",
       "    </tr>\n",
       "  </tbody>\n",
       "</table>\n",
       "<p>81 rows × 9 columns</p>\n",
       "</div>"
      ],
      "text/plain": [
       "           0         1         2         3         4         5         6  \\\n",
       "0  -1.503960 -0.860742 -0.888914 -0.635473 -1.545320  1.542017 -0.534122   \n",
       "1  -1.503960 -0.860742 -0.901611 -0.635473 -1.545320  1.083503 -0.994785   \n",
       "2  -1.488635 -0.860742 -0.927004 -0.635473 -1.545320  0.395732 -1.493836   \n",
       "3  -1.258755 -0.860742 -0.914307 -0.635473 -1.545320  0.979295 -1.301893   \n",
       "4  -1.396683 -0.860742 -0.927004 -0.635473 -1.545320  1.104345 -1.148339   \n",
       "..       ...       ...       ...       ...       ...       ...       ...   \n",
       "76  0.963412  1.458690  1.904324  1.756759  0.947466  2.688302 -0.418957   \n",
       "77  0.794834  1.310155  1.459945  1.393893  0.770253  1.938006 -0.841231   \n",
       "78  0.917436  1.572948  1.802752  1.514848  1.301890  1.771274 -0.994785   \n",
       "79  1.331219  1.858593  1.523428  1.891154  1.148306  1.917165 -1.301893   \n",
       "80  0.994063  1.572948  1.625000  1.622364  1.006536  1.729591 -1.263505   \n",
       "\n",
       "           7         8  \n",
       "0  -0.646264  0.718838  \n",
       "1  -0.693108 -0.020358  \n",
       "2  -0.669686 -0.361525  \n",
       "3  -0.622843 -0.020358  \n",
       "4  -0.646264 -0.475247  \n",
       "..       ...       ...  \n",
       "76  0.548240  0.946283  \n",
       "77  0.243759 -0.304664  \n",
       "78  0.126650 -0.702692  \n",
       "79  0.431132  0.093365  \n",
       "80  0.126650  0.377671  \n",
       "\n",
       "[81 rows x 9 columns]"
      ]
     },
     "execution_count": 12,
     "metadata": {},
     "output_type": "execute_result"
    }
   ],
   "source": [
    "X_scaled = pd.DataFrame(scaler.fit_transform(X))\n",
    "X_scaled"
   ]
  },
  {
   "cell_type": "code",
   "execution_count": 13,
   "id": "ad973f17",
   "metadata": {},
   "outputs": [
    {
     "data": {
      "text/html": [
       "<div>\n",
       "<style scoped>\n",
       "    .dataframe tbody tr th:only-of-type {\n",
       "        vertical-align: middle;\n",
       "    }\n",
       "\n",
       "    .dataframe tbody tr th {\n",
       "        vertical-align: top;\n",
       "    }\n",
       "\n",
       "    .dataframe thead th {\n",
       "        text-align: right;\n",
       "    }\n",
       "</style>\n",
       "<table border=\"1\" class=\"dataframe\">\n",
       "  <thead>\n",
       "    <tr style=\"text-align: right;\">\n",
       "      <th></th>\n",
       "      <th>BasicEPS</th>\n",
       "    </tr>\n",
       "  </thead>\n",
       "  <tbody>\n",
       "    <tr>\n",
       "      <th>2004-03-31</th>\n",
       "      <td>0.002</td>\n",
       "    </tr>\n",
       "    <tr>\n",
       "      <th>2004-06-30</th>\n",
       "      <td>0.003</td>\n",
       "    </tr>\n",
       "    <tr>\n",
       "      <th>2004-09-30</th>\n",
       "      <td>0.0</td>\n",
       "    </tr>\n",
       "    <tr>\n",
       "      <th>2004-12-31</th>\n",
       "      <td>0.013</td>\n",
       "    </tr>\n",
       "    <tr>\n",
       "      <th>2005-03-31</th>\n",
       "      <td>0.013</td>\n",
       "    </tr>\n",
       "    <tr>\n",
       "      <th>...</th>\n",
       "      <td>...</td>\n",
       "    </tr>\n",
       "    <tr>\n",
       "      <th>2023-03-31</th>\n",
       "      <td>1.53</td>\n",
       "    </tr>\n",
       "    <tr>\n",
       "      <th>2023-06-30</th>\n",
       "      <td>1.27</td>\n",
       "    </tr>\n",
       "    <tr>\n",
       "      <th>2023-09-30</th>\n",
       "      <td>1.47</td>\n",
       "    </tr>\n",
       "    <tr>\n",
       "      <th>2023-12-31</th>\n",
       "      <td>1.47</td>\n",
       "    </tr>\n",
       "    <tr>\n",
       "      <th>2024-03-31</th>\n",
       "      <td>1.47</td>\n",
       "    </tr>\n",
       "  </tbody>\n",
       "</table>\n",
       "<p>81 rows × 1 columns</p>\n",
       "</div>"
      ],
      "text/plain": [
       "           BasicEPS\n",
       "2004-03-31    0.002\n",
       "2004-06-30    0.003\n",
       "2004-09-30      0.0\n",
       "2004-12-31    0.013\n",
       "2005-03-31    0.013\n",
       "...             ...\n",
       "2023-03-31     1.53\n",
       "2023-06-30     1.27\n",
       "2023-09-30     1.47\n",
       "2023-12-31     1.47\n",
       "2024-03-31     1.47\n",
       "\n",
       "[81 rows x 1 columns]"
      ]
     },
     "execution_count": 13,
     "metadata": {},
     "output_type": "execute_result"
    }
   ],
   "source": [
    "y = pd.DataFrame(new_df.iloc[:, 0])\n",
    "y"
   ]
  },
  {
   "cell_type": "markdown",
   "id": "da43d5ef",
   "metadata": {},
   "source": [
    "# 4.) Run a Lasso with lambda of .06. Plot a bar chart."
   ]
  },
  {
   "cell_type": "code",
   "execution_count": 14,
   "id": "f7311bec",
   "metadata": {},
   "outputs": [],
   "source": [
    "lasso = Lasso(alpha=0.06)"
   ]
  },
  {
   "cell_type": "code",
   "execution_count": 15,
   "id": "83ad2021",
   "metadata": {},
   "outputs": [
    {
     "data": {
      "text/html": [
       "<style>#sk-container-id-1 {color: black;}#sk-container-id-1 pre{padding: 0;}#sk-container-id-1 div.sk-toggleable {background-color: white;}#sk-container-id-1 label.sk-toggleable__label {cursor: pointer;display: block;width: 100%;margin-bottom: 0;padding: 0.3em;box-sizing: border-box;text-align: center;}#sk-container-id-1 label.sk-toggleable__label-arrow:before {content: \"▸\";float: left;margin-right: 0.25em;color: #696969;}#sk-container-id-1 label.sk-toggleable__label-arrow:hover:before {color: black;}#sk-container-id-1 div.sk-estimator:hover label.sk-toggleable__label-arrow:before {color: black;}#sk-container-id-1 div.sk-toggleable__content {max-height: 0;max-width: 0;overflow: hidden;text-align: left;background-color: #f0f8ff;}#sk-container-id-1 div.sk-toggleable__content pre {margin: 0.2em;color: black;border-radius: 0.25em;background-color: #f0f8ff;}#sk-container-id-1 input.sk-toggleable__control:checked~div.sk-toggleable__content {max-height: 200px;max-width: 100%;overflow: auto;}#sk-container-id-1 input.sk-toggleable__control:checked~label.sk-toggleable__label-arrow:before {content: \"▾\";}#sk-container-id-1 div.sk-estimator input.sk-toggleable__control:checked~label.sk-toggleable__label {background-color: #d4ebff;}#sk-container-id-1 div.sk-label input.sk-toggleable__control:checked~label.sk-toggleable__label {background-color: #d4ebff;}#sk-container-id-1 input.sk-hidden--visually {border: 0;clip: rect(1px 1px 1px 1px);clip: rect(1px, 1px, 1px, 1px);height: 1px;margin: -1px;overflow: hidden;padding: 0;position: absolute;width: 1px;}#sk-container-id-1 div.sk-estimator {font-family: monospace;background-color: #f0f8ff;border: 1px dotted black;border-radius: 0.25em;box-sizing: border-box;margin-bottom: 0.5em;}#sk-container-id-1 div.sk-estimator:hover {background-color: #d4ebff;}#sk-container-id-1 div.sk-parallel-item::after {content: \"\";width: 100%;border-bottom: 1px solid gray;flex-grow: 1;}#sk-container-id-1 div.sk-label:hover label.sk-toggleable__label {background-color: #d4ebff;}#sk-container-id-1 div.sk-serial::before {content: \"\";position: absolute;border-left: 1px solid gray;box-sizing: border-box;top: 0;bottom: 0;left: 50%;z-index: 0;}#sk-container-id-1 div.sk-serial {display: flex;flex-direction: column;align-items: center;background-color: white;padding-right: 0.2em;padding-left: 0.2em;position: relative;}#sk-container-id-1 div.sk-item {position: relative;z-index: 1;}#sk-container-id-1 div.sk-parallel {display: flex;align-items: stretch;justify-content: center;background-color: white;position: relative;}#sk-container-id-1 div.sk-item::before, #sk-container-id-1 div.sk-parallel-item::before {content: \"\";position: absolute;border-left: 1px solid gray;box-sizing: border-box;top: 0;bottom: 0;left: 50%;z-index: -1;}#sk-container-id-1 div.sk-parallel-item {display: flex;flex-direction: column;z-index: 1;position: relative;background-color: white;}#sk-container-id-1 div.sk-parallel-item:first-child::after {align-self: flex-end;width: 50%;}#sk-container-id-1 div.sk-parallel-item:last-child::after {align-self: flex-start;width: 50%;}#sk-container-id-1 div.sk-parallel-item:only-child::after {width: 0;}#sk-container-id-1 div.sk-dashed-wrapped {border: 1px dashed gray;margin: 0 0.4em 0.5em 0.4em;box-sizing: border-box;padding-bottom: 0.4em;background-color: white;}#sk-container-id-1 div.sk-label label {font-family: monospace;font-weight: bold;display: inline-block;line-height: 1.2em;}#sk-container-id-1 div.sk-label-container {text-align: center;}#sk-container-id-1 div.sk-container {/* jupyter's `normalize.less` sets `[hidden] { display: none; }` but bootstrap.min.css set `[hidden] { display: none !important; }` so we also need the `!important` here to be able to override the default hidden behavior on the sphinx rendered scikit-learn.org. See: https://github.com/scikit-learn/scikit-learn/issues/21755 */display: inline-block !important;position: relative;}#sk-container-id-1 div.sk-text-repr-fallback {display: none;}</style><div id=\"sk-container-id-1\" class=\"sk-top-container\"><div class=\"sk-text-repr-fallback\"><pre>Lasso(alpha=0.06)</pre><b>In a Jupyter environment, please rerun this cell to show the HTML representation or trust the notebook. <br />On GitHub, the HTML representation is unable to render, please try loading this page with nbviewer.org.</b></div><div class=\"sk-container\" hidden><div class=\"sk-item\"><div class=\"sk-estimator sk-toggleable\"><input class=\"sk-toggleable__control sk-hidden--visually\" id=\"sk-estimator-id-1\" type=\"checkbox\" checked><label for=\"sk-estimator-id-1\" class=\"sk-toggleable__label sk-toggleable__label-arrow\">Lasso</label><div class=\"sk-toggleable__content\"><pre>Lasso(alpha=0.06)</pre></div></div></div></div></div>"
      ],
      "text/plain": [
       "Lasso(alpha=0.06)"
      ]
     },
     "execution_count": 15,
     "metadata": {},
     "output_type": "execute_result"
    }
   ],
   "source": [
    "lasso.fit(X_scaled, y)"
   ]
  },
  {
   "cell_type": "code",
   "execution_count": 16,
   "id": "a08cd5cd",
   "metadata": {},
   "outputs": [],
   "source": [
    "coefficients = lasso.coef_"
   ]
  },
  {
   "cell_type": "code",
   "execution_count": 17,
   "id": "0411fa69",
   "metadata": {},
   "outputs": [
    {
     "data": {
      "text/plain": [
       "array([ 0.08432498,  0.24371857,  0.00830121,  0.05428143,  0.06123648,\n",
       "        0.02832993,  0.        , -0.        ,  0.        ])"
      ]
     },
     "execution_count": 17,
     "metadata": {},
     "output_type": "execute_result"
    }
   ],
   "source": [
    "coefficients"
   ]
  },
  {
   "cell_type": "code",
   "execution_count": 18,
   "id": "d03977b5",
   "metadata": {},
   "outputs": [
    {
     "data": {
      "image/png": "[encoded data removed]",
      "text/plain": [
       "<Figure size 1200x500 with 1 Axes>"
      ]
     },
     "metadata": {},
     "output_type": "display_data"
    }
   ],
   "source": [
    "# label graph\n",
    "plt.figure(figsize = (12, 5))\n",
    "plt.bar(range(len(coefficients)), coefficients)\n",
    "plt.axhline(0, color = 'red')\n",
    "plt.title('Lasso with lambda of 0.06')\n",
    "plt.ylabel('Coefficients')\n",
    "plt.xticks(range(len(keywords)), keywords, rotation=45)\n",
    "plt.show()"
   ]
  },
  {
   "cell_type": "markdown",
   "id": "e130a2be",
   "metadata": {},
   "source": [
    "# 5.) Do these coefficient magnitudes make sense?"
   ]
  },
  {
   "cell_type": "markdown",
   "id": "87f6e489",
   "metadata": {},
   "source": [
    "Yes.\n",
    "\n",
    "The graph of the Lasso regression coefficients makes sense, considering that the first six terms—'Amazon', 'Apple Watch', 'Tesla', 'AirPods', 'MacBook Air', and 'Inflation rate'—could reasonably be thought to nowcast Apple's earnings, either through direct association with Apple's products or through economic indicators relevant to consumer spending and pricing strategies. In contrast, the last three terms—'zebra', 'classroom', and 'gun'—are intuitively unrelated to Apple's business and, as expected, do not appear to have a significant forecasting ability for Apple's earnings, reflected by their minimal or zero coefficients."
   ]
  },
  {
   "cell_type": "markdown",
   "id": "b96c6d59",
   "metadata": {},
   "source": [
    "Apple Watch: The large positive coefficient for \"Apple Watch\" suggests that this keyword has a strong positive association with Apple's EPS. It might indicate that \"Apple Watch\" as a feature is particularly relevant or influential in predicting the EPS, perhaps due to its sales or market significance being highly correlated with the financial performance of Apple.\n",
    "\n",
    "Other (Amazon, Tesla, AirPods, MacBook Air): Smaller positive coefficients for these products imply a positive relationship with Apple's EPS, but not as strong as that for the \"Apple Watch.\" This might reflect a scenario where these products contribute positively to Apple's EPS but are not as significant predictors as the \"Apple Watch\" in the model.\n",
    "\n",
    "The positive coefficient for \"Inflation rate\" in predicting Apple's EPS may suggest that Apple has the ability to pass on higher costs to consumers without significantly reducing demand, thereby maintaining or increasing its profit margins in inflationary periods. Additionally, it could indicate that during times of inflation, nominal revenue growth, coupled with Apple's strong market position, leads to a rise in EPS despite the broader economic impact of inflation.\n",
    "\n",
    "Non-Apple Related Keywords (Zebra, Classroom, Gun): The fact that these coefficients are potentially zero suggests that these features have no association with Apple's EPS, according to the model. It makes sense if these keywords are not directly related to Apple's business performance.\n",
    "\n",
    "In conclusion, assuming that the model has been validated for its predictive power and the features were appropriately scaled, the coefficients appear to make sense, with product-related features showing positive associations with Apple's EPS and unrelated keywords showing no association."
   ]
  },
  {
   "cell_type": "markdown",
   "id": "3a2bd7d7",
   "metadata": {},
   "source": [
    "# 6.) Run a for loop looking at 10 different Lambdas and plot the coefficient magnitude for each."
   ]
  },
  {
   "cell_type": "code",
   "execution_count": null,
   "id": "1f115bee",
   "metadata": {},
   "outputs": [],
   "source": []
  },
  {
   "cell_type": "code",
   "execution_count": null,
   "id": "7a3e12d3",
   "metadata": {},
   "outputs": [],
   "source": []
  },
  {
   "cell_type": "markdown",
   "id": "17b28626",
   "metadata": {},
   "source": [
    "# 7.) Run a cross validation. What is your ideal lambda?"
   ]
  },
  {
   "cell_type": "code",
   "execution_count": null,
   "id": "9fc5cca1",
   "metadata": {},
   "outputs": [],
   "source": []
  },
  {
   "cell_type": "code",
   "execution_count": null,
   "id": "a58a192a",
   "metadata": {},
   "outputs": [],
   "source": []
  }
 ],
 "metadata": {
  "kernelspec": {
   "display_name": "Python 3 (ipykernel)",
   "language": "python",
   "name": "python3"
  },
  "language_info": {
   "codemirror_mode": {
    "name": "ipython",
    "version": 3
   },
   "file_extension": ".py",
   "mimetype": "text/x-python",
   "name": "python",
   "nbconvert_exporter": "python",
   "pygments_lexer": "ipython3",
   "version": "3.9.13"
  }
 },
 "nbformat": 4,
 "nbformat_minor": 5
}
